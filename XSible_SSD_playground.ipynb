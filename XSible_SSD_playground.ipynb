{
  "nbformat": 4,
  "nbformat_minor": 0,
  "metadata": {
    "colab": {
      "name": "XSible-SSD-playground.ipynb",
      "version": "0.3.2",
      "provenance": [],
      "collapsed_sections": [],
      "toc_visible": true
    },
    "kernelspec": {
      "name": "python3",
      "display_name": "Python 3"
    },
    "accelerator": "GPU"
  },
  "cells": [
    {
      "cell_type": "markdown",
      "metadata": {
        "id": "4uZrpyXroagF",
        "colab_type": "text"
      },
      "source": [
        "## Initialize Notebook"
      ]
    },
    {
      "cell_type": "code",
      "metadata": {
        "id": "HC8YEL8Voeqp",
        "colab_type": "code",
        "colab": {}
      },
      "source": [
        "# Mount Google Drive\n",
        "from google.colab import drive\n",
        "drive.mount('/content/gdrive/', force_remount=True)"
      ],
      "execution_count": 0,
      "outputs": []
    },
    {
      "cell_type": "code",
      "metadata": {
        "id": "nXVC_8WxBX_u",
        "colab_type": "code",
        "colab": {}
      },
      "source": [
        "# Initialize needed variables\n",
        "root = '/content/gdrive/My Drive/XSible/'\n",
        "voc_dataset = root + 'pseudo-voc-dataset'"
      ],
      "execution_count": 0,
      "outputs": []
    },
    {
      "cell_type": "markdown",
      "metadata": {
        "id": "PUtgwnjNnl6l",
        "colab_type": "text"
      },
      "source": [
        "## Install dependencies"
      ]
    },
    {
      "cell_type": "code",
      "metadata": {
        "id": "dEMshauqAlPo",
        "colab_type": "code",
        "colab": {}
      },
      "source": [
        "!pip install torch torchvision\n",
        "!pip install xmltodict\n",
        "!pip install opencv-contrib-python"
      ],
      "execution_count": 0,
      "outputs": []
    },
    {
      "cell_type": "markdown",
      "metadata": {
        "id": "l3gRTi1ln1FH",
        "colab_type": "text"
      },
      "source": [
        "## Clone SSD repository"
      ]
    },
    {
      "cell_type": "code",
      "metadata": {
        "id": "zA8nJtT-DVAc",
        "colab_type": "code",
        "colab": {}
      },
      "source": [
        "# Remove old repository files\n",
        "!cd '/content/'\n",
        "!rm -rf 'ssd.pytorch/'"
      ],
      "execution_count": 0,
      "outputs": []
    },
    {
      "cell_type": "code",
      "metadata": {
        "id": "pjJjABWdBA5a",
        "colab_type": "code",
        "colab": {}
      },
      "source": [
        "# Clone repository\n",
        "!git clone https://github.com/xsible/ssd.pytorch"
      ],
      "execution_count": 0,
      "outputs": []
    },
    {
      "cell_type": "markdown",
      "metadata": {
        "id": "fWCNApr7o1aX",
        "colab_type": "text"
      },
      "source": [
        "## Fetch VGG16 weights"
      ]
    },
    {
      "cell_type": "code",
      "metadata": {
        "id": "YL_iUevZDNYa",
        "colab_type": "code",
        "colab": {}
      },
      "source": [
        "!mkdir -p model-weights/\n",
        "!wget https://s3.amazonaws.com/amdegroot-models/vgg16_reducedfc.pth -P '/content/model-weights/'"
      ],
      "execution_count": 0,
      "outputs": []
    },
    {
      "cell_type": "markdown",
      "metadata": {
        "id": "jM7Y_tI7o-7U",
        "colab_type": "text"
      },
      "source": [
        "## SSD model with VOC dataset"
      ]
    },
    {
      "cell_type": "markdown",
      "metadata": {
        "id": "31m5HuwJoPlk",
        "colab_type": "text"
      },
      "source": [
        "### Fetch Pascal VOC dataset"
      ]
    },
    {
      "cell_type": "code",
      "metadata": {
        "id": "w_oZTeqMB4il",
        "colab_type": "code",
        "colab": {}
      },
      "source": [
        "# download sample data from VOC 2007 & 2012 dataset\n",
        "!mkdir -p '/content/voc-data/'\n",
        "!sh ssd.pytorch/data/scripts/VOC2007.sh '/content/voc-data/'\n",
        "!sh ssd.pytorch/data/scripts/VOC2012.sh '/content/voc-data/'"
      ],
      "execution_count": 0,
      "outputs": []
    },
    {
      "cell_type": "markdown",
      "metadata": {
        "id": "lSbgi6oGpN6J",
        "colab_type": "text"
      },
      "source": [
        "### Train model"
      ]
    },
    {
      "cell_type": "code",
      "metadata": {
        "id": "5lKdkrldEXoI",
        "colab_type": "code",
        "colab": {}
      },
      "source": [
        "# Delete current model weights\n",
        "!rm -rf model-weights/VOC.pth\n",
        "\n",
        "# Train new model\n",
        "!python ssd.pytorch/train.py --dataset_root /content/og-data/VOCdevkit/ --save_folder /content/model-weights/ --start_iter 119950"
      ],
      "execution_count": 0,
      "outputs": []
    },
    {
      "cell_type": "markdown",
      "metadata": {
        "id": "WaH1nn7UphDO",
        "colab_type": "text"
      },
      "source": [
        "### Evaluate model"
      ]
    },
    {
      "cell_type": "code",
      "metadata": {
        "id": "dkY4FEP5Qpkm",
        "colab_type": "code",
        "colab": {}
      },
      "source": [
        "# Evaluate standard model\n",
        "!python ssd.pytorch/eval.py --voc_root /content/og-data/VOCdevkit/ --trained_model model-weights/VOC.pth --max_test 50"
      ],
      "execution_count": 0,
      "outputs": []
    },
    {
      "cell_type": "markdown",
      "metadata": {
        "id": "yaQgIcs-pj8N",
        "colab_type": "text"
      },
      "source": [
        "## SSD model with custom dataset"
      ]
    },
    {
      "cell_type": "markdown",
      "metadata": {
        "colab_type": "text",
        "id": "jU67eWvqpqtW"
      },
      "source": [
        "### Train model"
      ]
    },
    {
      "cell_type": "code",
      "metadata": {
        "id": "bCf3NC2IJDPl",
        "colab_type": "code",
        "colab": {}
      },
      "source": [
        "# Delete current model weights\n",
        "!rm -rf model-weights/custom.pth\n",
        "\n",
        "# Train new model\n",
        "!python ssd.pytorch/train.py --dataset custom --batch_size 8 --dataset_root '/content/gdrive/My Drive/XSible/pseudo-voc-dataset/' --save_folder /content/model-weights/ --start_iter 35"
      ],
      "execution_count": 0,
      "outputs": []
    },
    {
      "cell_type": "markdown",
      "metadata": {
        "colab_type": "text",
        "id": "KIwPpE-tpujT"
      },
      "source": [
        "### Evaluate model"
      ]
    },
    {
      "cell_type": "code",
      "metadata": {
        "id": "YilTWOGUBHre",
        "colab_type": "code",
        "colab": {}
      },
      "source": [
        "# Evaluate custom model\n",
        "!python ssd.pytorch/eval.py --use_07_metric false --year 2019 --use_custom true --voc_root '/content/gdrive/My Drive/XSible/pseudo-voc-dataset/' --trained_model /content/model-weights/custom.pth --max_test 50"
      ],
      "execution_count": 0,
      "outputs": []
    },
    {
      "cell_type": "markdown",
      "metadata": {
        "colab_type": "text",
        "id": "FvrgKF-YpvRg"
      },
      "source": [
        "### Test model"
      ]
    },
    {
      "cell_type": "code",
      "metadata": {
        "id": "egAZkhKdkIc0",
        "colab_type": "code",
        "colab": {}
      },
      "source": [
        "# Test custom model\n",
        "!rm eval/test1.txt\n",
        "!python ssd.pytorch/test.py -f 0 --use_custom true --voc_root '/content/gdrive/My Drive/XSible/pseudo-voc-dataset/' --trained_model model-weights/custom.pth --visual_threshold 0.95"
      ],
      "execution_count": 0,
      "outputs": []
    },
    {
      "cell_type": "markdown",
      "metadata": {
        "id": "j2prKT3lp--l",
        "colab_type": "text"
      },
      "source": [
        "### Run inference"
      ]
    },
    {
      "cell_type": "code",
      "metadata": {
        "id": "pSzv7KzsI_Pd",
        "colab_type": "code",
        "colab": {}
      },
      "source": [
        "!python ssd.pytorch/inference.py --input '/content/gdrive/My Drive/XSible/pseudo-voc-dataset/VOC2019/JPEGImages/img_275.jpg' --trained_model model-weights/custom.pth"
      ],
      "execution_count": 0,
      "outputs": []
    }
  ]
}