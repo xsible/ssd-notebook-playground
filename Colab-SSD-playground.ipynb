{
 "cells": [
  {
   "cell_type": "markdown",
   "metadata": {
    "colab_type": "text",
    "id": "4uZrpyXroagF"
   },
   "source": [
    "## Initialize Notebook"
   ]
  },
  {
   "cell_type": "code",
   "execution_count": 0,
   "metadata": {
    "colab": {},
    "colab_type": "code",
    "id": "HC8YEL8Voeqp"
   },
   "outputs": [],
   "source": [
    "# Mount Google Drive\n",
    "from google.colab import drive\n",
    "drive.mount('/content/gdrive/', force_remount=True)"
   ]
  },
  {
   "cell_type": "code",
   "execution_count": 0,
   "metadata": {
    "colab": {},
    "colab_type": "code",
    "id": "nXVC_8WxBX_u"
   },
   "outputs": [],
   "source": [
    "# Initialize needed variables\n",
    "root = '/content/gdrive/My Drive/XSible/'\n",
    "voc_dataset = root + 'pseudo-voc-dataset'"
   ]
  },
  {
   "cell_type": "markdown",
   "metadata": {
    "colab_type": "text",
    "id": "PUtgwnjNnl6l"
   },
   "source": [
    "## Install dependencies"
   ]
  },
  {
   "cell_type": "code",
   "execution_count": 0,
   "metadata": {
    "colab": {},
    "colab_type": "code",
    "id": "dEMshauqAlPo"
   },
   "outputs": [],
   "source": [
    "!pip install torch torchvision\n",
    "!pip install xmltodict\n",
    "!pip install opencv-contrib-python"
   ]
  },
  {
   "cell_type": "markdown",
   "metadata": {
    "colab_type": "text",
    "id": "l3gRTi1ln1FH"
   },
   "source": [
    "## Clone SSD repository"
   ]
  },
  {
   "cell_type": "code",
   "execution_count": 0,
   "metadata": {
    "colab": {},
    "colab_type": "code",
    "id": "zA8nJtT-DVAc"
   },
   "outputs": [],
   "source": [
    "# Remove old repository files\n",
    "!rm -rf 'ssd.pytorch/'"
   ]
  },
  {
   "cell_type": "code",
   "execution_count": 0,
   "metadata": {
    "colab": {},
    "colab_type": "code",
    "id": "pjJjABWdBA5a"
   },
   "outputs": [],
   "source": [
    "# Clone repository\n",
    "!git clone https://github.com/xsible/ssd.pytorch"
   ]
  },
  {
   "cell_type": "markdown",
   "metadata": {
    "colab_type": "text",
    "id": "fWCNApr7o1aX"
   },
   "source": [
    "## Fetch VGG16 weights"
   ]
  },
  {
   "cell_type": "code",
   "execution_count": 0,
   "metadata": {
    "colab": {},
    "colab_type": "code",
    "id": "YL_iUevZDNYa"
   },
   "outputs": [],
   "source": [
    "!mkdir -p model-weights/\n",
    "!wget https://s3.amazonaws.com/amdegroot-models/vgg16_reducedfc.pth -P model-weights/"
   ]
  },
  {
   "cell_type": "markdown",
   "metadata": {
    "colab_type": "text",
    "id": "jM7Y_tI7o-7U"
   },
   "source": [
    "## SSD model with VOC dataset"
   ]
  },
  {
   "cell_type": "markdown",
   "metadata": {
    "colab_type": "text",
    "id": "31m5HuwJoPlk"
   },
   "source": [
    "### Fetch Pascal VOC dataset"
   ]
  },
  {
   "cell_type": "code",
   "execution_count": 0,
   "metadata": {
    "colab": {},
    "colab_type": "code",
    "id": "w_oZTeqMB4il"
   },
   "outputs": [],
   "source": [
    "# download sample data from VOC 2007 & 2012 dataset\n",
    "!mkdir -p voc-data/\n",
    "!sh ssd.pytorch/data/scripts/VOC2007.sh voc-data/\n",
    "!sh ssd.pytorch/data/scripts/VOC2012.sh voc-data/"
   ]
  },
  {
   "cell_type": "markdown",
   "metadata": {
    "colab_type": "text",
    "id": "lSbgi6oGpN6J"
   },
   "source": [
    "### Train model"
   ]
  },
  {
   "cell_type": "code",
   "execution_count": 0,
   "metadata": {
    "colab": {},
    "colab_type": "code",
    "id": "5lKdkrldEXoI"
   },
   "outputs": [],
   "source": [
    "# Delete current model weights\n",
    "!rm -rf model-weights/VOC.pth\n",
    "\n",
    "# Train new model\n",
    "!python ssd.pytorch/train.py --dataset-root voc-data/VOCdevkit/ --save-folder model-weights/ --start-iter 119950"
   ]
  },
  {
   "cell_type": "markdown",
   "metadata": {
    "colab_type": "text",
    "id": "WaH1nn7UphDO"
   },
   "source": [
    "### Evaluate model"
   ]
  },
  {
   "cell_type": "code",
   "execution_count": 0,
   "metadata": {
    "colab": {},
    "colab_type": "code",
    "id": "dkY4FEP5Qpkm"
   },
   "outputs": [],
   "source": [
    "# Evaluate standard model\n",
    "!python ssd.pytorch/eval.py --voc-root voc-data/VOCdevkit/ --trained-model model-weights/VOC.pth --max-test 50"
   ]
  },
  {
   "cell_type": "markdown",
   "metadata": {
    "colab_type": "text",
    "id": "yaQgIcs-pj8N"
   },
   "source": [
    "## SSD model with custom dataset"
   ]
  },
  {
   "cell_type": "markdown",
   "metadata": {
    "colab_type": "text",
    "id": "jU67eWvqpqtW"
   },
   "source": [
    "### Train model"
   ]
  },
  {
   "cell_type": "code",
   "execution_count": 0,
   "metadata": {
    "colab": {},
    "colab_type": "code",
    "id": "bCf3NC2IJDPl"
   },
   "outputs": [],
   "source": [
    "# Delete current model weights\n",
    "!rm -rf model-weights/custom.pth\n",
    "\n",
    "# Train new model\n",
    "!python ssd.pytorch/train.py --dataset custom --batch_size 8 --dataset-root 'gdrive/My Drive/XSible/pseudo-voc-dataset/' --save-folder model-weights/ --start_iter 35"
   ]
  },
  {
   "cell_type": "markdown",
   "metadata": {
    "colab_type": "text",
    "id": "KIwPpE-tpujT"
   },
   "source": [
    "### Evaluate model"
   ]
  },
  {
   "cell_type": "code",
   "execution_count": 0,
   "metadata": {
    "colab": {},
    "colab_type": "code",
    "id": "YilTWOGUBHre"
   },
   "outputs": [],
   "source": [
    "# Evaluate custom model\n",
    "!python ssd.pytorch/eval.py --use-new-metric --year 2019 --custom-voc --voc-root 'gdrive/My Drive/XSible/pseudo-voc-dataset/' --trained-model model-weights/custom.pth --max-test 50"
   ]
  },
  {
   "cell_type": "markdown",
   "metadata": {
    "colab_type": "text",
    "id": "FvrgKF-YpvRg"
   },
   "source": [
    "### Test model"
   ]
  },
  {
   "cell_type": "code",
   "execution_count": 0,
   "metadata": {
    "colab": {},
    "colab_type": "code",
    "id": "egAZkhKdkIc0"
   },
   "outputs": [],
   "source": [
    "# Test custom model\n",
    "!rm eval/test.txt\n",
    "!python ssd.pytorch/test.py --custom-voc --voc-root 'gdrive/My Drive/XSible/pseudo-voc-dataset/' --trained-model model-weights/custom.pth --visual-threshold 0.95"
   ]
  },
  {
   "cell_type": "markdown",
   "metadata": {
    "colab_type": "text",
    "id": "j2prKT3lp--l"
   },
   "source": [
    "### Run inference"
   ]
  },
  {
   "cell_type": "code",
   "execution_count": 0,
   "metadata": {
    "colab": {},
    "colab_type": "code",
    "id": "pSzv7KzsI_Pd"
   },
   "outputs": [],
   "source": [
    "!python ssd.pytorch/inference.py --input 'gdrive/My Drive/XSible/pseudo-voc-dataset/VOC2019/JPEGImages/img_275.jpg' --trained-model model-weights/custom.pth"
   ]
  }
 ],
 "metadata": {
  "accelerator": "GPU",
  "colab": {
   "collapsed_sections": [],
   "name": "XSible-SSD-playground.ipynb",
   "provenance": [],
   "toc_visible": true,
   "version": "0.3.2"
  },
  "kernelspec": {
   "display_name": "Python 3",
   "language": "python",
   "name": "python3"
  },
  "language_info": {
   "codemirror_mode": {
    "name": "ipython",
    "version": 3
   },
   "file_extension": ".py",
   "mimetype": "text/x-python",
   "name": "python",
   "nbconvert_exporter": "python",
   "pygments_lexer": "ipython3",
   "version": "3.7.3"
  }
 },
 "nbformat": 4,
 "nbformat_minor": 1
}
