{
 "cells": [
  {
   "cell_type": "markdown",
   "metadata": {
    "colab_type": "text",
    "id": "fWCNApr7o1aX"
   },
   "source": [
    "## Fetch VGG16 weights"
   ]
  },
  {
   "cell_type": "code",
   "execution_count": null,
   "metadata": {
    "colab": {},
    "colab_type": "code",
    "id": "YL_iUevZDNYa"
   },
   "outputs": [],
   "source": [
    "!mkdir -p model_data/weights/\n",
    "!wget https://s3.amazonaws.com/amdegroot-models/vgg16_reducedfc.pth -P model_data/weights/"
   ]
  },
  {
   "cell_type": "markdown",
   "metadata": {
    "colab_type": "text",
    "id": "jM7Y_tI7o-7U"
   },
   "source": [
    "## SSD model with VOC dataset"
   ]
  },
  {
   "cell_type": "markdown",
   "metadata": {
    "colab_type": "text",
    "id": "31m5HuwJoPlk"
   },
   "source": [
    "### Fetch Pascal VOC dataset"
   ]
  },
  {
   "cell_type": "code",
   "execution_count": null,
   "metadata": {
    "colab": {},
    "colab_type": "code",
    "id": "w_oZTeqMB4il"
   },
   "outputs": [],
   "source": [
    "# download sample data from VOC 2007 & 2012 dataset\n",
    "!mkdir -p model_data/dataset/\n",
    "!sh ssd.pytorch/data/scripts/VOC2007.sh model_data/dataset/\n",
    "!sh ssd.pytorch/data/scripts/VOC2012.sh model_data/dataset/"
   ]
  },
  {
   "cell_type": "markdown",
   "metadata": {
    "colab_type": "text",
    "id": "lSbgi6oGpN6J"
   },
   "source": [
    "### Train model"
   ]
  },
  {
   "cell_type": "code",
   "execution_count": null,
   "metadata": {
    "colab": {},
    "colab_type": "code",
    "id": "5lKdkrldEXoI"
   },
   "outputs": [],
   "source": [
    "# Delete current model weights\n",
    "!rm -rf model_data/weights/VOC.pth\n",
    "\n",
    "# Train new model\n",
    "!python ssd.pytorch/train.py --dataset VOC --batch-size 32 --dataset-root model_data/dataset/ --save-folder model_data/weights/ --start-iter 119950 --no-cuda"
   ]
  },
  {
   "cell_type": "markdown",
   "metadata": {
    "colab_type": "text",
    "id": "WaH1nn7UphDO"
   },
   "source": [
    "### Evaluate model"
   ]
  },
  {
   "cell_type": "code",
   "execution_count": null,
   "metadata": {
    "colab": {},
    "colab_type": "code",
    "id": "dkY4FEP5Qpkm"
   },
   "outputs": [],
   "source": [
    "# Evaluate standard model\n",
    "!python ssd.pytorch/eval.py --use-new-metric --year 2007 --standard-voc --voc-root model_data/dataset/ --trained-model model_data/weights/VOC.pth --max-test 50 --no-cuda"
   ]
  },
  {
   "cell_type": "markdown",
   "metadata": {
    "colab_type": "text",
    "id": "yaQgIcs-pj8N"
   },
   "source": [
    "## SSD model with custom dataset"
   ]
  },
  {
   "cell_type": "markdown",
   "metadata": {
    "colab_type": "text",
    "id": "jU67eWvqpqtW"
   },
   "source": [
    "### Train model"
   ]
  },
  {
   "cell_type": "code",
   "execution_count": null,
   "metadata": {
    "colab": {},
    "colab_type": "code",
    "id": "bCf3NC2IJDPl",
    "scrolled": true
   },
   "outputs": [],
   "source": [
    "# Delete current model weights\n",
    "!rm -rf model_data/weights/custom.pth\n",
    "\n",
    "# Train new model\n",
    "!python ssd.pytorch/train.py --dataset custom --batch-size 8 --dataset-root model_data/dataset/ --save-folder model_data/weights/ --start-iter 40 --no-cuda"
   ]
  },
  {
   "cell_type": "markdown",
   "metadata": {
    "colab_type": "text",
    "id": "KIwPpE-tpujT"
   },
   "source": [
    "### Evaluate model"
   ]
  },
  {
   "cell_type": "code",
   "execution_count": null,
   "metadata": {
    "colab": {},
    "colab_type": "code",
    "id": "YilTWOGUBHre",
    "scrolled": true
   },
   "outputs": [],
   "source": [
    "# Evaluate custom model\n",
    "!python ssd.pytorch/eval.py --use-new-metric --year 2019 --custom-voc --voc-root model_data/dataset/ --trained-model model_data/weights/custom.pth --max-test 20 --no-cuda"
   ]
  },
  {
   "cell_type": "markdown",
   "metadata": {
    "colab_type": "text",
    "id": "FvrgKF-YpvRg"
   },
   "source": [
    "### Test model"
   ]
  },
  {
   "cell_type": "code",
   "execution_count": null,
   "metadata": {
    "colab": {},
    "colab_type": "code",
    "id": "egAZkhKdkIc0",
    "scrolled": true
   },
   "outputs": [],
   "source": [
    "# Test custom model\n",
    "!python ssd.pytorch/test.py --custom-voc --voc-root model_data/dataset/ --trained-model model_data/weights/custom.pth --visual-threshold 0.80 --no-cuda"
   ]
  },
  {
   "cell_type": "markdown",
   "metadata": {
    "colab_type": "text",
    "id": "j2prKT3lp--l"
   },
   "source": [
    "### Run inference"
   ]
  },
  {
   "cell_type": "code",
   "execution_count": null,
   "metadata": {
    "colab": {},
    "colab_type": "code",
    "id": "pSzv7KzsI_Pd"
   },
   "outputs": [],
   "source": [
    "!python ssd.pytorch/inference.py --input model_data/dataset/VOC2019/JPEGImages/img_123.jpg --trained-model model_data/weights/custom.pth --no-cuda"
   ]
  }
 ],
 "metadata": {
  "accelerator": "GPU",
  "colab": {
   "collapsed_sections": [],
   "name": "XSible-SSD-playground.ipynb",
   "provenance": [],
   "toc_visible": true,
   "version": "0.3.2"
  },
  "kernelspec": {
   "display_name": "Python 3",
   "language": "python",
   "name": "python3"
  },
  "language_info": {
   "codemirror_mode": {
    "name": "ipython",
    "version": 3
   },
   "file_extension": ".py",
   "mimetype": "text/x-python",
   "name": "python",
   "nbconvert_exporter": "python",
   "pygments_lexer": "ipython3",
   "version": "3.6.8"
  }
 },
 "nbformat": 4,
 "nbformat_minor": 1
}
